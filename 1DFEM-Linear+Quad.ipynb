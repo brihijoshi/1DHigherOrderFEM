{
 "cells": [
  {
   "cell_type": "code",
   "execution_count": null,
   "metadata": {},
   "outputs": [],
   "source": [
    "import scipy as sp\n",
    "import numpy as np\n",
    "import matplotlib.pyplot as plt"
   ]
  },
  {
   "cell_type": "code",
   "execution_count": null,
   "metadata": {},
   "outputs": [],
   "source": [
    "n = 5"
   ]
  },
  {
   "cell_type": "code",
   "execution_count": null,
   "metadata": {},
   "outputs": [],
   "source": [
    "### Discretize my x\n",
    "x = np.linspace(0,1,num=n+1)"
   ]
  },
  {
   "cell_type": "code",
   "execution_count": null,
   "metadata": {},
   "outputs": [],
   "source": [
    "h = 1/n"
   ]
  },
  {
   "cell_type": "code",
   "execution_count": null,
   "metadata": {},
   "outputs": [],
   "source": [
    "def f(x):\n",
    "    return 6*x - 2"
   ]
  },
  {
   "cell_type": "code",
   "execution_count": null,
   "metadata": {},
   "outputs": [],
   "source": [
    "def analytical(x):\n",
    "    return x**2 - x**3"
   ]
  },
  {
   "cell_type": "markdown",
   "metadata": {},
   "source": [
    "## 1d Linear FEM"
   ]
  },
  {
   "cell_type": "code",
   "execution_count": null,
   "metadata": {},
   "outputs": [],
   "source": [
    "def get_linear_coeff(i,j):\n",
    "    if i==j:\n",
    "        return 1/h\n",
    "    return -1/h"
   ]
  },
  {
   "cell_type": "code",
   "execution_count": null,
   "metadata": {},
   "outputs": [],
   "source": [
    "A = np.zeros((n-1,n-1))\n",
    "for k in range(0,n+1):\n",
    "    for i in [0,1]:\n",
    "        for j in [0,1]:\n",
    "            ig = k+i-2\n",
    "            jg= k+j-2\n",
    "            if ig < 0 or jg < 0 or ig >=n-1 or jg >=n-1:\n",
    "                continue\n",
    "            A[ig,jg] = A[ig,jg] + get_linear_coeff(i,j)"
   ]
  },
  {
   "cell_type": "code",
   "execution_count": null,
   "metadata": {},
   "outputs": [],
   "source": [
    "f_disc = np.zeros(n-1)\n",
    "for i in range(1,n):\n",
    "    f_disc[i-1] = h*f(x[i])"
   ]
  },
  {
   "cell_type": "code",
   "execution_count": null,
   "metadata": {},
   "outputs": [],
   "source": [
    "u = np.linalg.solve(A, f_disc)"
   ]
  },
  {
   "cell_type": "code",
   "execution_count": null,
   "metadata": {},
   "outputs": [],
   "source": [
    "plt.plot (x[1:-1], u, label='Numerical Soln')\n",
    "x_new = np.linspace(0,1)\n",
    "plt.plot(x_new, analytical(x_new),'--', label='Analytical Soln')\n",
    "plt.legend()\n",
    "plt.title('Linear Basis FEM')\n",
    "# plt.savefig('linear.png')"
   ]
  },
  {
   "cell_type": "markdown",
   "metadata": {},
   "source": [
    "## 1d Quadratic FEM"
   ]
  },
  {
   "cell_type": "code",
   "execution_count": null,
   "metadata": {},
   "outputs": [],
   "source": [
    "def calculate_1D_quadratic( n, a, c, f, x ):\n",
    "\n",
    "  quad_num = 3\n",
    "  abscissa = np.array ( [ \\\n",
    "    -0.774596669241483377035853079956, \\\n",
    "     0.000000000000000000000000000000, \\\n",
    "     0.774596669241483377035853079956 ] )\n",
    "  weight = np.array ( [ \\\n",
    "    0.555555555555555555555555555556, \\\n",
    "    0.888888888888888888888888888889, \\\n",
    "    0.555555555555555555555555555556 ] )\n",
    "#\n",
    "#  Make room for the matrix A and right hand side b.\n",
    "#\n",
    "  A = np.zeros ( [ n, n ] )\n",
    "  b = np.zeros ( n )\n",
    "#\n",
    "#  Integrate over element E.\n",
    "#\n",
    "  e_num = ( n - 1 ) // 2\n",
    "\n",
    "  for e in range ( 0, e_num ):\n",
    "\n",
    "    l = 2 * e\n",
    "    xl = x[l]\n",
    "\n",
    "    m = 2 * e + 1\n",
    "    xm = x[m]\n",
    "\n",
    "    r = 2 * e + 2\n",
    "    xr = x[r]\n",
    "\n",
    "    for q in range ( 0, quad_num ):\n",
    "\n",
    "      xq = ( ( 1.0 - abscissa[q] ) * xl   \\\n",
    "           + ( 1.0 + abscissa[q] ) * xr ) \\\n",
    "           / 2.0\n",
    "\n",
    "      wq = weight[q] * ( xr - xl ) / 2.0\n",
    "\n",
    "      axq = a ( xq )\n",
    "      cxq = c ( xq )\n",
    "      fxq = f ( xq )\n",
    "\n",
    "      vl = ( ( xq - xm ) / ( xl - xm ) ) \\\n",
    "         * ( ( xq - xr ) / ( xl - xr ) )\n",
    "\n",
    "      vm = ( ( xq - xl ) / ( xm - xl ) ) \\\n",
    "         * ( ( xq - xr ) / ( xm - xr ) )\n",
    "\n",
    "      vr = ( ( xq - xl ) / ( xr - xl ) ) \\\n",
    "         * ( ( xq - xm ) / ( xr - xm ) )\n",
    "\n",
    "      vlp = (         1.0 / ( xl - xm ) ) \\\n",
    "          * ( ( xq - xr ) / ( xl - xr ) ) \\\n",
    "          + ( ( xq - xm ) / ( xl - xm ) ) \\\n",
    "          * (         1.0 / ( xl - xr ) )\n",
    "\n",
    "      vmp = (         1.0 / ( xm - xl ) ) \\\n",
    "          * ( ( xq - xr ) / ( xm - xr ) ) \\\n",
    "          + ( ( xq - xl ) / ( xm - xl ) ) \\\n",
    "          * (         1.0 / ( xm - xr ) )\n",
    "\n",
    "      vrp = (         1.0 / ( xr - xl ) ) \\\n",
    "          * ( ( xq - xm ) / ( xr - xm ) ) \\\n",
    "          + ( ( xq - xl ) / ( xr - xl ) ) \\\n",
    "          * (         1.0 / ( xr - xm ) )\n",
    "\n",
    "      A[l,l] = A[l,l] + wq * ( vlp * axq * vlp + vl * cxq * vl )\n",
    "      A[l,m] = A[l,m] + wq * ( vlp * axq * vmp + vl * cxq * vm )\n",
    "      A[l,r] = A[l,r] + wq * ( vlp * axq * vrp + vl * cxq * vr )\n",
    "      b[l]   = b[l]   + wq * ( vl * fxq )\n",
    "\n",
    "      A[m,l] = A[m,l] + wq * ( vmp * axq * vlp + vm * cxq * vl )\n",
    "      A[m,m] = A[m,m] + wq * ( vmp * axq * vmp + vm * cxq * vm )\n",
    "      A[m,r] = A[m,r] + wq * ( vmp * axq * vrp + vm * cxq * vr )\n",
    "      b[m] =   b[m]   + wq * ( vm * fxq )\n",
    "\n",
    "      A[r,l] = A[r,l] + wq * ( vrp * axq * vlp + vr * cxq * vl )\n",
    "      A[r,m] = A[r,m] + wq * ( vrp * axq * vmp + vr * cxq * vm )\n",
    "      A[r,r] = A[r,r] + wq * ( vrp * axq * vrp + vr * cxq * vr )\n",
    "      b[r] =   b[r]   + wq * ( vr * fxq )\n",
    "#\n",
    "#  Equation 0 is the left boundary condition, U(0) = 0.0;\n",
    "#\n",
    "  for j in range ( 0, n ):\n",
    "    A[0,j] = 0.0\n",
    "  A[0,0] = 1.0\n",
    "  b[0] = 0.0\n",
    "#\n",
    "#  We can keep the matrix symmetric by using the boundary condition\n",
    "#  to eliminate U(0) from all equations but #0.\n",
    "#\n",
    "  for i in range ( 1, n ):\n",
    "    b[i] = b[i] - A[i,0] * b[0]\n",
    "    A[i,0] = 0.0\n",
    "#\n",
    "#  Equation N-1 is the right boundary condition, U(N-1) = 0.0;\n",
    "#\n",
    "  for j in range ( 0, n ):\n",
    "    A[n-1,j] = 0.0\n",
    "  A[n-1,n-1] = 1.0\n",
    "  b[n-1] = 0.0\n",
    "#\n",
    "#  We can keep the matrix symmetric by using the boundary condition\n",
    "#  to eliminate U(N-1) from all equations but #N-1.\n",
    "#\n",
    "  for i in range ( 0, n - 1 ):\n",
    "    b[i] = b[i] - A[i,n-1] * b[n-1]\n",
    "    A[i,n-1] = 0.0\n",
    "#\n",
    "#  Solve the linear system for the finite element coefficients U.\n",
    "#\n",
    "    u = np.linalg.solve(A,b)\n",
    "    return u\n",
    " "
   ]
  },
  {
   "cell_type": "code",
   "execution_count": null,
   "metadata": {},
   "outputs": [],
   "source": [
    "def test_1D_quadratic( ):\n",
    "    x_lo = 0.0\n",
    "    x_hi = 1.0\n",
    "    n = 25\n",
    "    x = np.linspace ( x_lo, x_hi, n)\n",
    "\n",
    "    u = calculate_1D_quadratic( n, a00, c00, f, x )\n",
    "\n",
    "    plt.plot (x, u, label='Numerical Soln')\n",
    "    x_new = np.linspace(0,1)\n",
    "    plt.plot(x_new, analytical(x_new),'--', label='Analytical Soln')\n",
    "    plt.legend()\n",
    "    plt.title('Quadratic Basis FEM')\n",
    "#     plt.savefig('quadratic.png')\n",
    "\n",
    "    return u, analytical(x)\n",
    "\n",
    "def a00 ( x ):\n",
    "    value = 1.0\n",
    "    return value\n",
    "\n",
    "def c00 ( x ):\n",
    "    return 0\n",
    "\n",
    "u, t = test_1D_quadratic( )\n",
    "\n"
   ]
  },
  {
   "cell_type": "code",
   "execution_count": null,
   "metadata": {},
   "outputs": [],
   "source": []
  }
 ],
 "metadata": {
  "kernelspec": {
   "display_name": "Python 3",
   "language": "python",
   "name": "python3"
  },
  "language_info": {
   "codemirror_mode": {
    "name": "ipython",
    "version": 3
   },
   "file_extension": ".py",
   "mimetype": "text/x-python",
   "name": "python",
   "nbconvert_exporter": "python",
   "pygments_lexer": "ipython3",
   "version": "3.7.3"
  }
 },
 "nbformat": 4,
 "nbformat_minor": 2
}
